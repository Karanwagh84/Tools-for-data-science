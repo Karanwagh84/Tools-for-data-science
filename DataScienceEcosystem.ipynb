{
  "nbformat": 4,
  "nbformat_minor": 0,
  "metadata": {
    "colab": {
      "provenance": []
    },
    "kernelspec": {
      "name": "python3",
      "display_name": "Python 3"
    },
    "language_info": {
      "name": "python"
    }
  },
  "cells": [
    {
      "cell_type": "markdown",
      "source": [
        "# Data Science Tools and Ecosystem"
      ],
      "metadata": {
        "id": "n0IFwGY3NaVQ"
      }
    },
    {
      "cell_type": "markdown",
      "source": [
        "## In this notebook, Data Science Tools and Ecosystem are summarized"
      ],
      "metadata": {
        "id": "ra8LJG9oOKJN"
      }
    },
    {
      "cell_type": "markdown",
      "source": [
        "## Some of the popular languages that Data Scientists use are:\n",
        "\n",
        "\n",
        "1.   Pyhton\n",
        "2.   R Language\n",
        "3.   Ruby\n",
        "4.   Java\n",
        "\n"
      ],
      "metadata": {
        "id": "ebeDHtALOlGI"
      }
    },
    {
      "cell_type": "markdown",
      "source": [
        "## Data Science Tools\n",
        "\n",
        "\n",
        "1. SAS\n",
        "2. TenserFlow\n",
        "3. BigMl\n",
        "4. MATLAB\n",
        "5. Excel  \n",
        "6. NLTK\n",
        "\n"
      ],
      "metadata": {
        "id": "bt52dS1rPZhE"
      }
    },
    {
      "cell_type": "markdown",
      "source": [
        "### Below are a few examples of evaluating arithmetic expressions in Python\n",
        "\n",
        "\n",
        "1.   Addition (+)\n",
        "2.   Multiplication (*)\n",
        "3.   Subtraction (-)\n",
        "4.   division (/)\n",
        "5.   Remainder (%)\n",
        "6.   Quotient (//)\n",
        "7.   Exponentiation (**)\n",
        "\n"
      ],
      "metadata": {
        "id": "vyCPEGEWQgrk"
      }
    },
    {
      "cell_type": "code",
      "source": [
        "#This a simple arithmetic expression to mutiply then add integers\n",
        "(3*4)+5"
      ],
      "metadata": {
        "colab": {
          "base_uri": "https://localhost:8080/"
        },
        "id": "NZK4tYZpR5rX",
        "outputId": "23e8dbf6-8984-44f2-f615-d9c87641b840"
      },
      "execution_count": 1,
      "outputs": [
        {
          "output_type": "execute_result",
          "data": {
            "text/plain": [
              "17"
            ]
          },
          "metadata": {},
          "execution_count": 1
        }
      ]
    },
    {
      "cell_type": "code",
      "source": [
        "#This will convert 200 minutes to hours by diving by 60\n",
        "200/60"
      ],
      "metadata": {
        "colab": {
          "base_uri": "https://localhost:8080/"
        },
        "id": "twgrpsfYSRb8",
        "outputId": "65d90de8-6200-473f-8044-a45013842b8d"
      },
      "execution_count": 2,
      "outputs": [
        {
          "output_type": "execute_result",
          "data": {
            "text/plain": [
              "3.3333333333333335"
            ]
          },
          "metadata": {},
          "execution_count": 2
        }
      ]
    },
    {
      "cell_type": "markdown",
      "source": [
        "**Objectives:**\n",
        "\n",
        "\n",
        "*   R\n",
        "*   SQl\n",
        "*   Java\n",
        "*   Python\n",
        "*   Javascript\n",
        "\n"
      ],
      "metadata": {
        "id": "ltaHBhnOS-UN"
      }
    },
    {
      "cell_type": "markdown",
      "source": [
        "## Author\n",
        "Karan Wagh"
      ],
      "metadata": {
        "id": "49lPRle8T1Ir"
      }
    }
  ]
}